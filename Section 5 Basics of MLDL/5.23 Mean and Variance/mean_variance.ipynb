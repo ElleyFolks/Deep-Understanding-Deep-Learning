{
 "cells": [
  {
   "cell_type": "code",
   "execution_count": 1,
   "metadata": {},
   "outputs": [],
   "source": [
    "import numpy as np"
   ]
  },
  {
   "cell_type": "markdown",
   "metadata": {},
   "source": [
    "***\n",
    "***\n",
    "# Mean and Variance!\n",
    "\n",
    "## *Mean* - measures the average of a set of numbers\n",
    "# $\\bar x =$ $\\dfrac{\\sum^n_{i=1}x_i}{n}$\n",
    "- aka \"average, arithemtic mean\"\n",
    "- **interpretation** - used for finding the *central tendency* of a roughly normal (gaussian) distributed  data set\n",
    "- **use case**: only reliable with gaussian distributions\n",
    "- data types: interval, ratio"
   ]
  },
  {
   "cell_type": "code",
   "execution_count": 7,
   "metadata": {},
   "outputs": [
    {
     "name": "stdout",
     "output_type": "stream",
     "text": [
      "Average with numpy function: 0.5714285714285714\n",
      "Average with manual function: 0.5714285714285714\n"
     ]
    }
   ],
   "source": [
    "# example 1 - calculating mean\n",
    "\n",
    "# data set\n",
    "x = [1, 6, 7, 6, -2, -14, 0]\n",
    "n = len(x) # length of list == total count of numbers in set\n",
    "\n",
    "# finding mean with two different methods\n",
    "\n",
    "# using built in function\n",
    "avg1 = np.mean(x)\n",
    "print(\"Average with numpy function:\", avg1)\n",
    "\n",
    "# manual\n",
    "avg2 = np.sum(x)/n\n",
    "print(\"Average with manual function:\", avg2)\n",
    "\n",
    "# these should have the same result"
   ]
  },
  {
   "cell_type": "markdown",
   "metadata": {},
   "source": [
    "***\n",
    "***\n",
    "## *Variance* - measures dispersion of data points around mean or average\n",
    "# $\\sigma^2 =\\dfrac{\\sum^n_{i=1}(x_i-Mean)^2}{(n-1)}$\n",
    "- **interpretation** - larger variance indicates data points are distributed  farther from the mean\n",
    "- **use case**: can be used for ANY distribution\n",
    "- data types: numerical, ordinal with computed mean\n",
    "\n",
    "#### - note: when using built in function, must consider 2nd parameter, degrees of freedom\n",
    "- **degrees of freedom** -  number of variables / values in a calculation that are free to vary\n",
    "\n",
    "#### - biased vs unbiased variance:\n",
    "- **biased** - default of numpy's *var()* function is *ddof = 0*. This introduces a bias in the calculation.\n",
    "- **unbiased** - need to specify the parameter of *ddof = 1* to get the results one would be expecting with the above equation. This removes the bias.\n",
    "- the difference between these two becomes more negligible for larger data sets\n",
    "\n"
   ]
  },
  {
   "cell_type": "code",
   "execution_count": 9,
   "metadata": {},
   "outputs": [
    {
     "name": "stdout",
     "output_type": "stream",
     "text": [
      "Variance 1: 53.285714285714285\n",
      "Variance 2: 53.285714285714285\n"
     ]
    }
   ],
   "source": [
    "# example 2 - calculating variance\n",
    "\n",
    "# using built in numpy function\n",
    "variance1 = np.var(x, ddof=1)\n",
    "print(\"Variance 1:\", variance1)\n",
    "\n",
    "# manual computation\n",
    "variance2 = (1/(n-1))*np.sum((x-avg1)**2) # using unbiased variance\n",
    "print(\"Variance 2:\", variance2)\n"
   ]
  }
 ],
 "metadata": {
  "kernelspec": {
   "display_name": "Python 3",
   "language": "python",
   "name": "python3"
  },
  "language_info": {
   "codemirror_mode": {
    "name": "ipython",
    "version": 3
   },
   "file_extension": ".py",
   "mimetype": "text/x-python",
   "name": "python",
   "nbconvert_exporter": "python",
   "pygments_lexer": "ipython3",
   "version": "3.11.5"
  }
 },
 "nbformat": 4,
 "nbformat_minor": 2
}
