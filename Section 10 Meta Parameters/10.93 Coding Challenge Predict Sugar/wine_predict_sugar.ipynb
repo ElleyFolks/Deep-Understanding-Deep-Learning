{
 "cells": [
  {
   "cell_type": "markdown",
   "metadata": {},
   "source": [
    "---\n",
    "---\n",
    "# Use an ANN model to Predict the Wine's Sugar Content\n",
    "### Goals:\n",
    "1. Adapt code to predict sugar instead of quality.\n",
    "2. Achieve as high of accuracy as possible for this problem.\n",
    "### Notes:\n",
    "- #### This differs from the previous projects, because now the model will predict sugar content instead of the subjective wine quality.\n",
    "- #### Throughout this experiment, I'll be considering if the `quality` feature should be dropped. I would be interested to see if it harms or improves the model's performance.\n",
    "- #### May still need to run a parametric experiment to figure out a good batch size. From previous projects I think batch sizes of 32 or 64 would be most stable."
   ]
  },
  {
   "cell_type": "code",
   "execution_count": 1,
   "metadata": {},
   "outputs": [],
   "source": [
    "import torch\n",
    "import torch.nn as nn\n",
    "import torch.nn.functional as F\n",
    "\n",
    "from torch.utils.data import DataLoader, TensorDataset\n",
    "from sklearn.model_selection import train_test_split\n",
    "\n",
    "import numpy as np\n",
    "import scipy.stats as stats\n",
    "\n",
    "import pandas as pd\n",
    "\n",
    "import matplotlib.pyplot as plt\n",
    "\n",
    "import seaborn as sns"
   ]
  }
 ],
 "metadata": {
  "kernelspec": {
   "display_name": "Python 3",
   "language": "python",
   "name": "python3"
  },
  "language_info": {
   "codemirror_mode": {
    "name": "ipython",
    "version": 3
   },
   "file_extension": ".py",
   "mimetype": "text/x-python",
   "name": "python",
   "nbconvert_exporter": "python",
   "pygments_lexer": "ipython3",
   "version": "3.11.9"
  }
 },
 "nbformat": 4,
 "nbformat_minor": 2
}
