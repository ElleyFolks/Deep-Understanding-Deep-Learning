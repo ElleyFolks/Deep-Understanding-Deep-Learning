{
 "cells": [
  {
   "cell_type": "code",
   "execution_count": 1,
   "metadata": {},
   "outputs": [],
   "source": [
    "import numpy as np\n",
    "import torch"
   ]
  },
  {
   "cell_type": "markdown",
   "metadata": {},
   "source": [
    "# NumPy array\n",
    "- shows numpy syntax to declare a numpy array\n",
    "    - *note that the row needs to be wrapped* in square brackets\n",
    "    - this will be stored as a **NDarray**, which is a *multi-dimensional array*\n",
    "***\n",
    "- #### demonstrates transpose operation"
   ]
  },
  {
   "cell_type": "code",
   "execution_count": null,
   "metadata": {},
   "outputs": [],
   "source": [
    "# create a row vector\n",
    "numpy_vector = np.array([[1, 3, 5, 7, 11]])\n",
    "print(\"The original vector:\\n\", numpy_vector)\n",
    "\n",
    "# transpose this row to a column\n",
    "t_npvector = numpy_vector.T\n",
    "print(\"The vector transposed:\\n\", t_npvector)\n",
    "\n",
    "# this operation is reversable, transposing the column back to the original row\n",
    "print(\"Transposing the column back to a row:\\n\", t_npvector.T)"
   ]
  },
  {
   "cell_type": "markdown",
   "metadata": {},
   "source": [
    "## NumPy matrix\n",
    "- ### show the syntax to declare a matrix\n",
    "    - *be sure to wrap each row* in **hard brackets**\n",
    "    - there *must* be a **comma** between each row (exluding the last row)\n",
    "    - *all of the rows must be wrapped* with a **set of square brackets**\n",
    "***\n",
    "- #### explores transposing a matrix\n",
    "    - transposing a matrix is exactly the same as transposing an array"
   ]
  },
  {
   "cell_type": "code",
   "execution_count": null,
   "metadata": {},
   "outputs": [],
   "source": [
    "# declaring the matrix\n",
    "numpy_matrix = np.array ([[1, 3, 5],\n",
    "                        [7, 11, 13],\n",
    "                        [17, 19, 23]\n",
    "                        ])\n",
    "print(\"The original matrix:\\n\", numpy_matrix)\n",
    "\n",
    "# the same .T operation seen above with the numpy array can also be used to transpose a matrix\n",
    "t_npmatrix = numpy_matrix.T\n",
    "print(\"The transposed matrix:\\n\", t_npmatrix)\n",
    "\n",
    "# if transposed again, it will result in the original matrix\n",
    "print(\"Transposing the matrix again:\\n\", t_npmatrix.T)"
   ]
  },
  {
   "cell_type": "markdown",
   "metadata": {},
   "source": [
    "***\n",
    "***\n",
    "# PyTorch vector\n",
    "- shows syntax for declaring a vector using PyTorch\n",
    "    - the **data type** must be declared the as a **tensor**\n",
    "***\n",
    "- #### demonstrates transposing operation"
   ]
  },
  {
   "cell_type": "code",
   "execution_count": null,
   "metadata": {},
   "outputs": [],
   "source": [
    "# creating a row vector of the tensor data type\n",
    "torch_vector = torch.tensor([[2, 4, 6, 8]]) # row must be wrapped in square brackets\n",
    "print(\"Original row vector:\\n\", torch_vector)\n",
    "\n",
    "# transposing the vector, the dot operator is the same as NumPy\n",
    "t_tvector = torch_vector.T\n",
    "print(\"Transposed vector:\\n\", t_tvector)\n",
    "\n",
    "# transposing again reverses the first operation\n",
    "print(\"Transposing back to original vector:\\n\", t_tvector.T)"
   ]
  },
  {
   "cell_type": "markdown",
   "metadata": {},
   "source": [
    "## PyTorch matrix\n",
    "- shows syntax for declaring a matrix in torch\n",
    "    - other than specifying the torch data type, *there is no difference in syntax* between this and a numpy matrix\n",
    "***\n",
    "- #### demonstrates transpose operation"
   ]
  },
  {
   "cell_type": "code",
   "execution_count": null,
   "metadata": {},
   "outputs": [],
   "source": [
    "# declaring the matrix\n",
    "torch_matrix = torch.tensor([\n",
    "                            [2, 4, 6],\n",
    "                            [8, 10, 12]\n",
    "                            ])\n",
    "print(\"Original matrix:\\n\", torch_matrix)\n",
    "\n",
    "# transposing the matrix\n",
    "t_tmatrix = torch_matrix.T \n",
    "print(\"Transposed matrix:\\n\", t_tmatrix)\n",
    "\n",
    "# transposing again to get the original matrix\n",
    "print(\"Transposing again:\\n\", t_tmatrix.T)"
   ]
  }
 ],
 "metadata": {
  "kernelspec": {
   "display_name": "Python 3",
   "language": "python",
   "name": "python3"
  },
  "language_info": {
   "codemirror_mode": {
    "name": "ipython",
    "version": 3
   },
   "file_extension": ".py",
   "mimetype": "text/x-python",
   "name": "python",
   "nbconvert_exporter": "python",
   "pygments_lexer": "ipython3",
   "version": "3.11.5"
  },
  "orig_nbformat": 4
 },
 "nbformat": 4,
 "nbformat_minor": 2
}
