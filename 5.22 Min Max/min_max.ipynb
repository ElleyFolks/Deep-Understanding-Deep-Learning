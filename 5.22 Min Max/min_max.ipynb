{
 "cells": [
  {
   "cell_type": "code",
   "execution_count": 1,
   "metadata": {},
   "outputs": [],
   "source": [
    "import numpy as np\n",
    "import torch\n",
    "import torch.nn as nn"
   ]
  },
  {
   "cell_type": "markdown",
   "metadata": {},
   "source": [
    "***\n",
    "***\n",
    "# Min and Max using NumPy\n",
    "#### **numpy has built in functions to calculate the following**:\n",
    "1. **minimum** - smallest / least number in a set\n",
    "2. **maximum** - largest / greatest number in a set\n",
    "3. **minimum index** - position of smallest number in a set \n",
    "4. **maximum index** - position of largest number in a set\n",
    "- *note*: for the indexes they return the index position of a value in a set, not the actual value\n",
    "- *additional note*: the argmin and argmax will count starting at 0, not 1"
   ]
  },
  {
   "cell_type": "code",
   "execution_count": 3,
   "metadata": {},
   "outputs": [
    {
     "name": "stdout",
     "output_type": "stream",
     "text": [
      "min value: -15, max value: 60\n",
      "position of minimum: 3, position of maximum: 1\n"
     ]
    }
   ],
   "source": [
    "# example 1\n",
    "\n",
    "# finding minimum and maximum from a set of numbers\n",
    "vector = np.array([-2,60,7,-15])\n",
    "\n",
    "min_val = np.min(vector)\n",
    "max_val = np.max(vector)\n",
    "\n",
    "print(\"min value: %g, max value: %g\"%(min_val,max_val))\n",
    "\n",
    "# finding positions of min and max\n",
    "min_idx = np.argmin(vector)\n",
    "max_idx = np.argmax(vector)\n",
    "\n",
    "print(\"position of minimum: %g, position of maximum: %g\" %(min_idx,max_idx))"
   ]
  },
  {
   "cell_type": "markdown",
   "metadata": {},
   "source": [
    "***\n",
    "## Finding min / max with matrices\n",
    "- biggest difference between this and an array is that you can find the max / min of the entire matrix, of each row, or of each of the columns "
   ]
  },
  {
   "cell_type": "code",
   "execution_count": 12,
   "metadata": {},
   "outputs": [
    {
     "name": "stdout",
     "output_type": "stream",
     "text": [
      "[[52 -1  1]\n",
      " [ 6 18  5]] \n",
      "\n",
      "min of entire matrix: -1 \n",
      "min of columns: [ 6 -1  1] \n",
      "min of rows: [-1  5] \n",
      "\n",
      "index of min: 1 \n",
      "position min of columns: [1 0 0] \n",
      "position min of rows: [1 2] \n",
      "\n"
     ]
    }
   ],
   "source": [
    "# example 2\n",
    "\n",
    "# matrix\n",
    "m = np.array([\n",
    "    [52, -1, 1],\n",
    "    [6, 18, 5]\n",
    "    ])\n",
    "print(m,\"\\n\")\n",
    "\n",
    "# minimum values\n",
    "min_all = np.min(m) # min for whole matrix\n",
    "min_cols = np.min(m,axis = 0) # min for each column (across rows)\n",
    "min_rows = np.min(m, axis = 1) # min for each row (across columns)\n",
    "\n",
    "print(\"min of entire matrix:\", min_all, \"\\nmin of columns:\", min_cols,\"\\nmin of rows:\",min_rows,\"\\n\")\n",
    "\n",
    "# positions of minimum values\n",
    "\n",
    "min_all_idx = np.argmin(m)\n",
    "min_cols_idx = np.argmin(m, axis = 0) # will return col index for each min, 0 starting at the top\n",
    "min_rows_idx = np.argmin(m, axis = 1) # will return row index for each min, 0 starting at the left\n",
    "\n",
    "print(\"index of min:\", min_all_idx, \"\\nposition min of columns:\", min_cols_idx,\"\\nposition min of rows:\", min_rows_idx,\"\\n\")"
   ]
  },
  {
   "cell_type": "markdown",
   "metadata": {},
   "source": [
    "***\n",
    "***\n",
    "# Using PyTorch\n",
    "- almost identical to numpy, all of the functions have the same names\n",
    "- only big difference is the syntax\n",
    "    - torch.function instead of np.function\n",
    "- uses tensor data type"
   ]
  },
  {
   "cell_type": "code",
   "execution_count": 19,
   "metadata": {},
   "outputs": [
    {
     "name": "stdout",
     "output_type": "stream",
     "text": [
      "minimum: -15, maximum: 60\n",
      "position of minimum: 3, position of maximum: 1\n"
     ]
    }
   ],
   "source": [
    "# example 3\n",
    "vec = torch.tensor([-2,60,7,-15])\n",
    "\n",
    "# finding min and max\n",
    "torch_min = torch.min(vec)\n",
    "torch_max = torch.max(vec)\n",
    "\n",
    "print(\"minimum: %g, maximum: %g\"%(torch_min, torch_max))\n",
    "\n",
    "# finding positions of min and max\n",
    "t_min_idx = torch.argmin(vec)\n",
    "t_max_idx = torch.argmax(vec)\n",
    "\n",
    "print(\"position of minimum: %g, position of maximum: %g\" %(t_min_idx,t_max_idx))\n"
   ]
  },
  {
   "cell_type": "markdown",
   "metadata": {},
   "source": [
    "***\n",
    "## Brief example of matrix\n",
    "- a nice addition to the min and max functions is that they also have the functionality of argmin and argmax.<br><br>\n",
    "- Both values and indices are stored in an object.\n",
    "    - can use dot operator to access values or indices <br><br>\n"
   ]
  },
  {
   "cell_type": "code",
   "execution_count": 23,
   "metadata": {},
   "outputs": [
    {
     "name": "stdout",
     "output_type": "stream",
     "text": [
      "tensor([[52, -1,  1],\n",
      "        [ 6, 18,  5]]) \n",
      "\n",
      "min of entire matrix: tensor(-1) \n",
      "min of columns: tensor([ 6, -1,  1]) \n",
      "min of rows: tensor([-1,  5]) \n",
      "\n",
      "index of min: tensor(1) \n",
      "position min of columns: tensor([1, 0, 0]) \n",
      "position min of rows: tensor([1, 2]) \n",
      "\n"
     ]
    }
   ],
   "source": [
    "# example 4\n",
    "\n",
    "# matrix\n",
    "m = torch.tensor([\n",
    "    [52, -1, 1],\n",
    "    [6, 18, 5]\n",
    "    ])\n",
    "print(m,\"\\n\")\n",
    "\n",
    "# minimum values, will return an object that contains min values and index positions\n",
    "min_all = torch.min(m)\n",
    "min_cols = torch.min(m,axis = 0) \n",
    "min_rows = torch.min(m, axis = 1)\n",
    "\n",
    "print(\"min of entire matrix:\", min_all, \"\\nmin of columns:\", min_cols.values,\"\\nmin of rows:\",min_rows.values,\"\\n\")\n",
    "\n",
    "# positions of minimum values\n",
    "\n",
    "min_all_idx = torch.argmin(m)\n",
    "\n",
    "print(\"index of min:\", min_all_idx, \"\\nposition min of columns:\", min_cols.indices,\"\\nposition min of rows:\", min_rows.indices,\"\\n\")"
   ]
  }
 ],
 "metadata": {
  "kernelspec": {
   "display_name": "Python 3",
   "language": "python",
   "name": "python3"
  },
  "language_info": {
   "codemirror_mode": {
    "name": "ipython",
    "version": 3
   },
   "file_extension": ".py",
   "mimetype": "text/x-python",
   "name": "python",
   "nbconvert_exporter": "python",
   "pygments_lexer": "ipython3",
   "version": "3.11.5"
  }
 },
 "nbformat": 4,
 "nbformat_minor": 2
}
