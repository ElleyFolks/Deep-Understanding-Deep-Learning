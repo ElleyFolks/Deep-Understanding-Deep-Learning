{
 "cells": [
  {
   "cell_type": "code",
   "execution_count": 1,
   "metadata": {},
   "outputs": [],
   "source": [
    "import numpy as np\n",
    "import torch"
   ]
  },
  {
   "cell_type": "markdown",
   "metadata": {},
   "source": [
    "# Random numbers and seeding!\n",
    "- ensures the **same set of random numbers can be reproduced**\n",
    "- essential for sharing code \n",
    "- ensuring consistent results in deep learning models"
   ]
  },
  {
   "cell_type": "markdown",
   "metadata": {},
   "source": [
    "## Seeding with NumPy"
   ]
  },
  {
   "cell_type": "markdown",
   "metadata": {},
   "source": [
    "***\n",
    "#### Creating a list of random numbers"
   ]
  },
  {
   "cell_type": "code",
   "execution_count": 2,
   "metadata": {},
   "outputs": [
    {
     "data": {
      "text/plain": [
       "array([-0.32314115, -1.35855552, -0.09148985, -1.47510295, -0.64391638])"
      ]
     },
     "execution_count": 2,
     "metadata": {},
     "output_type": "execute_result"
    }
   ],
   "source": [
    "# example 1 - making random numbers via random.randn function\n",
    "np.random.randn(5)"
   ]
  },
  {
   "cell_type": "markdown",
   "metadata": {},
   "source": [
    "***\n",
    "#### Method to create a seed\n",
    "- when a seed is fixed, the random values initially generated will be the same with each following rerun of the code.\n",
    "- with the below method, it sets the seed for all of the random functions. It does not allow for instanced seeding."
   ]
  },
  {
   "cell_type": "code",
   "execution_count": 11,
   "metadata": {},
   "outputs": [
    {
     "name": "stdout",
     "output_type": "stream",
     "text": [
      "[ 1.69052570e+00 -4.65937371e-01  3.28201637e-02  4.07516283e-01\n",
      " -7.88923029e-01  2.06557291e-03 -8.90385858e-04 -1.75472431e+00]\n",
      "[ 1.01765801  0.60049852 -0.62542897 -0.17154826  0.50529937 -0.26135642\n",
      " -0.24274908 -1.45324141  0.55458031  0.12388091  0.27445992 -1.52652453\n",
      "  1.65069969  0.15433554 -0.38713994  2.02907222 -0.04538603 -1.4506787\n",
      " -0.40522786]\n"
     ]
    }
   ],
   "source": [
    "# example 2 - seed creating with widely used method\n",
    "\n",
    "# fix the seed, acts globally\n",
    "np.random.seed(7)\n",
    "\n",
    "print(np.random.randn(8))\n",
    "print(np.random.randn(19))\n"
   ]
  },
  {
   "cell_type": "markdown",
   "metadata": {},
   "source": [
    "***\n",
    "#### Alternate seed creation method\n",
    "- creating seeds with the *RandomState* method!\n",
    "    - creates an object where the \" . \" operator can be used to access the .randn function in numpy.\n",
    "- not necessarily better, but it is newer, more flexible, and generally recommended.\n",
    "- can create and use multiple seeds in the same program"
   ]
  },
  {
   "cell_type": "code",
   "execution_count": 22,
   "metadata": {},
   "outputs": [
    {
     "name": "stdout",
     "output_type": "stream",
     "text": [
      "[-0.41475721 -0.33336867  0.08109199]\n",
      "[-0.75061472  1.31635732  1.24614003]\n",
      "[-0.79102695 -0.21859967 -0.76319684]\n",
      "[-1.60491574 -1.46814368 -1.71507046]\n",
      "[ 0.50162412 -0.09477545  1.19308592]\n"
     ]
    }
   ],
   "source": [
    "# example 3) local seeds\n",
    "\n",
    "rand_seed_1 = np.random.RandomState(31)\n",
    "rand_seed_2 = np.random.RandomState(44)\n",
    "\n",
    "print(rand_seed_1.randn(3)) # uses seed 1, does not change between runs\n",
    "print(rand_seed_2.randn(3)) # uses seed 2, does not change between runs\n",
    "print(rand_seed_1.randn(3)) # different, does not change between runs\n",
    "print(rand_seed_2.randn(3)) # different, does not change between runs\n",
    "print (np.random.randn(3)) # changes every run"
   ]
  },
  {
   "cell_type": "markdown",
   "metadata": {},
   "source": [
    "***\n",
    "***\n",
    "## Seeding with PyTorch\n",
    "- seeding with pytorch is similar to the method shown in example 2, where it is more of a global scope and would affect all random variables."
   ]
  },
  {
   "cell_type": "markdown",
   "metadata": {},
   "source": [
    "***\n",
    "#### Creating random numbers:"
   ]
  },
  {
   "cell_type": "code",
   "execution_count": 23,
   "metadata": {},
   "outputs": [
    {
     "data": {
      "text/plain": [
       "tensor([ 1.1497, -0.5807,  0.3513, -0.6467, -0.2579])"
      ]
     },
     "execution_count": 23,
     "metadata": {},
     "output_type": "execute_result"
    }
   ],
   "source": [
    "torch.randn(5)"
   ]
  },
  {
   "cell_type": "markdown",
   "metadata": {},
   "source": [
    "***\n",
    "#### Creating a seed\n",
    "\n",
    "- torch's *manual_seed* function is local to pytorch, and it does not affect anything with numpy"
   ]
  },
  {
   "cell_type": "code",
   "execution_count": 32,
   "metadata": {},
   "outputs": [
    {
     "name": "stdout",
     "output_type": "stream",
     "text": [
      "tensor([-0.4868, -0.6038, -0.5581,  0.6675, -0.1974])\n",
      "[ 0.6547057   0.8943523   0.41550261 -0.92354466 -0.19602731]\n"
     ]
    }
   ],
   "source": [
    "torch.manual_seed(5)\n",
    "print(torch.randn(5)) # should be same every time\n",
    "\n",
    "print(np.random.randn(5)) # should be different every time\n"
   ]
  }
 ],
 "metadata": {
  "kernelspec": {
   "display_name": "Python 3",
   "language": "python",
   "name": "python3"
  },
  "language_info": {
   "codemirror_mode": {
    "name": "ipython",
    "version": 3
   },
   "file_extension": ".py",
   "mimetype": "text/x-python",
   "name": "python",
   "nbconvert_exporter": "python",
   "pygments_lexer": "ipython3",
   "version": "3.11.5"
  }
 },
 "nbformat": 4,
 "nbformat_minor": 2
}
