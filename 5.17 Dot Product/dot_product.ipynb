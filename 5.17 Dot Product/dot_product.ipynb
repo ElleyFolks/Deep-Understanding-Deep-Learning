{
 "cells": [
  {
   "cell_type": "code",
   "execution_count": 6,
   "metadata": {},
   "outputs": [],
   "source": [
    "import numpy as np\n",
    "import torch"
   ]
  },
  {
   "cell_type": "markdown",
   "metadata": {},
   "source": [
    "# Dot Product using NumPy\n",
    "- notable difference between numpy and torch:\n",
    "    - that the **data type** of the result of the dot product is an **integer**"
   ]
  },
  {
   "cell_type": "code",
   "execution_count": 8,
   "metadata": {},
   "outputs": [
    {
     "name": "stdout",
     "output_type": "stream",
     "text": [
      "88\n",
      "88\n"
     ]
    }
   ],
   "source": [
    "# creating two vectors of same dimension\n",
    "numpy_vec_1 = np.array([1,0,5,7,9])\n",
    "numpy_vec_2 = np.array([2,4,6,8,0])\n",
    "# expected dot product: 1(2) + 0(4) + 5(6) + 7(8) + 9(0) = 88\n",
    "\n",
    "# using the built in function\n",
    "result = np.dot(numpy_vec_1,numpy_vec_2)\n",
    "print(result)\n",
    "\n",
    "# can also sum up results of vectors being multiplied\n",
    "result = np.sum(numpy_vec_1*numpy_vec_2)\n",
    "print(result)"
   ]
  },
  {
   "cell_type": "markdown",
   "metadata": {},
   "source": [
    "# Dot Product using PyTorch\n",
    "- notable features:\n",
    "    - the result of the dot product is a **tensor**, not an integer"
   ]
  },
  {
   "cell_type": "code",
   "execution_count": 10,
   "metadata": {},
   "outputs": [
    {
     "name": "stdout",
     "output_type": "stream",
     "text": [
      "tensor(11)\n",
      "tensor(11)\n"
     ]
    }
   ],
   "source": [
    "# creating two vectors of same dimension\n",
    "torch_vec_1 = torch.tensor([9,7,5,3])\n",
    "torch_vec_2 = torch.tensor([-2,-4,6,9])\n",
    "\n",
    "# computing dot product with function\n",
    "result = torch.dot(torch_vec_1,torch_vec_2)\n",
    "print(result)\n",
    "\n",
    "# 'manual' computation\n",
    "result = torch.sum(torch_vec_1*torch_vec_2)\n",
    "print(result)"
   ]
  }
 ],
 "metadata": {
  "kernelspec": {
   "display_name": "Python 3",
   "language": "python",
   "name": "python3"
  },
  "language_info": {
   "codemirror_mode": {
    "name": "ipython",
    "version": 3
   },
   "file_extension": ".py",
   "mimetype": "text/x-python",
   "name": "python",
   "nbconvert_exporter": "python",
   "pygments_lexer": "ipython3",
   "version": "3.11.5"
  },
  "orig_nbformat": 4
 },
 "nbformat": 4,
 "nbformat_minor": 2
}
