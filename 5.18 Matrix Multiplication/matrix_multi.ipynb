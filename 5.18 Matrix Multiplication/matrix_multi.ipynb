{
 "cells": [
  {
   "cell_type": "code",
   "execution_count": 2,
   "metadata": {},
   "outputs": [],
   "source": [
    "import numpy as np\n",
    "import torch"
   ]
  },
  {
   "cell_type": "markdown",
   "metadata": {},
   "source": [
    "# Matrix Multiplication in Numpy\n",
    "- **data type of result** will be a numpy array\n",
    "- *at sign*, **@**: an awesome shortcut for matrix multiplication built into python, where $ AB = A@B$"
   ]
  },
  {
   "cell_type": "code",
   "execution_count": null,
   "metadata": {},
   "outputs": [],
   "source": [
    "# creating some random matrices\n",
    "A = np.random.randn(4,5) # will create a 3X4 matrix with random numbers\n",
    "B = np.random.randn(5,6)\n",
    "C = np.random.randn(4,7)\n",
    "\n",
    "# full notation to multiply two matrices\n",
    "result = np.matmul(A,B)\n",
    "print(\"AB using matrix multiplying function:\\n\",np.round(result,3),\"\\n\")\n",
    "\n",
    "# using the shortcut in python\n",
    "result = A@B\n",
    "print(\"AB result using the shortcut:\\n\",np.round(result,3),\"\\n\")\n",
    "\n",
    "# can use transposing and matrix multiplication\n",
    "result = C.T@A\n",
    "print(\"C^TA result:\\n\",np.round(result,2))"
   ]
  },
  {
   "cell_type": "markdown",
   "metadata": {},
   "source": [
    "***\n",
    "***\n",
    "# Matrix Multiplication with PyTorch\n",
    "- ## key differences:\n",
    "    - **random numbers** - do not have to call a sub library \"random\" like in numpy\n",
    "    - **data type of result** of matrix multiplication is a tensor"
   ]
  },
  {
   "cell_type": "code",
   "execution_count": null,
   "metadata": {},
   "outputs": [],
   "source": [
    "# creating two matrices with random numbers populated\n",
    "D = torch.randn(4,5)\n",
    "E = torch.randn(5,6)\n",
    "\n",
    "# matrix multiplication with shortcut\n",
    "result = D@E\n",
    "print(\"DE using torch:\\n\",torch.round(result),\"\\n\")\n"
   ]
  },
  {
   "cell_type": "markdown",
   "metadata": {},
   "source": [
    "***\n",
    "***\n",
    "## Is it possible to mix data types between the different libraries?\n",
    "- ### short answer: *it depends* ...\n",
    "    - **if torch @ numpy**, then the operation will work\n",
    "    - **if numpy @ torch**, *then the numpy array must be converted* to a **torch** data type\n"
   ]
  },
  {
   "cell_type": "code",
   "execution_count": 22,
   "metadata": {},
   "outputs": [
    {
     "name": "stdout",
     "output_type": "stream",
     "text": [
      "torch_matrix multiplied by numpy_matrix:\n",
      " tensor([[ 6.5920, -3.4417, -0.5285, -0.9810,  2.2283,  3.6057, -0.9132,  0.9087],\n",
      "        [ 4.4827, -1.5702, -2.0697, -0.5455, -0.3550, -0.1351,  2.2696,  0.9273],\n",
      "        [-5.5450,  0.1429,  2.2943,  2.0320, -1.6906, -1.5064,  1.0509,  1.0151],\n",
      "        [ 5.6062, -2.7616,  2.1589,  1.7624, -3.4366, -0.3689, -0.1931,  3.6162],\n",
      "        [-0.3950,  0.6713, -0.2383, -0.8031,  1.5347,  1.0303, -1.3717, -1.2111],\n",
      "        [ 5.7462, -0.2373,  0.0658, -0.0150, -2.1721, -0.6796, -1.1243,  1.2206],\n",
      "        [ 0.2957, -0.3943,  2.2003,  1.2886, -1.8889, -0.4678, -1.1420,  1.4061],\n",
      "        [ 8.7621, -2.2817, -0.4362, -0.9207,  0.2540,  2.1557, -1.8146,  1.1894]],\n",
      "       dtype=torch.float64) \n",
      "\n",
      "numpy multiplied by torch matrices:\n",
      " tensor([[ 7.3800,  5.5988, -1.6808,  4.7274],\n",
      "        [-1.1748,  2.8966,  0.9153, -3.2159],\n",
      "        [-4.7753, -1.1326, -1.4966, -2.9331],\n",
      "        [ 2.1610, -2.2969,  2.5385,  1.2011]]) \n",
      "\n"
     ]
    }
   ],
   "source": [
    "#creating matrices of different data types\n",
    "numpy_matrix = np.random.randn(4,8)\n",
    "torch_matrix = torch.randn(8,4)\n",
    "\n",
    "result = torch_matrix@numpy_matrix # a torch matrix can be multiplied by a numpy matrix\n",
    "print(\"torch_matrix multiplied by numpy_matrix:\\n\",result,\"\\n\")\n",
    "\n",
    "# a numpy array is not compatiable with operations with a torch tensor\n",
    "np_to_torch = torch.tensor(numpy_matrix,dtype=torch.float)# need to convert to torch\n",
    "result = np_to_torch@torch_matrix\n",
    "print(\"numpy multiplied by torch matrices:\\n\",result,\"\\n\")"
   ]
  }
 ],
 "metadata": {
  "kernelspec": {
   "display_name": "Python 3",
   "language": "python",
   "name": "python3"
  },
  "language_info": {
   "codemirror_mode": {
    "name": "ipython",
    "version": 3
   },
   "file_extension": ".py",
   "mimetype": "text/x-python",
   "name": "python",
   "nbconvert_exporter": "python",
   "pygments_lexer": "ipython3",
   "version": "3.11.5"
  },
  "orig_nbformat": 4
 },
 "nbformat": 4,
 "nbformat_minor": 2
}
