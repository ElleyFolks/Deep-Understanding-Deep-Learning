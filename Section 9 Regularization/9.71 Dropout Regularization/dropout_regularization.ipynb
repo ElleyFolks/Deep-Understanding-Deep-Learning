{
 "cells": [
  {
   "cell_type": "markdown",
   "metadata": {},
   "source": [
    "# Dropout Regularization!\n",
    "#### What is it?\n",
    "- **Dropout regularization** is an effective method to improve the performance and generalizability of deep learning models.\n",
    "- During each training epoch, individual nodes / units in model layers randomly have their activation set to zero.\n",
    "- These nodes are **not** actually removed from the model.\n",
    "- This should *not be applied* during model evaluation.\n",
    "\n",
    "#### Why is it used?\n",
    "- Dropout regularization aims to prevent units from learning too much individually, promotes distributed representations, and increases model stability\n",
    "- Improves generalizability, reduces overfitting, improves testing accuracy."
   ]
  },
  {
   "cell_type": "code",
   "execution_count": 1,
   "metadata": {},
   "outputs": [],
   "source": [
    "import torch\n",
    "import torch.nn as nn\n",
    "import torch.nn.functional as F"
   ]
  },
  {
   "cell_type": "code",
   "execution_count": 10,
   "metadata": {},
   "outputs": [
    {
     "name": "stdout",
     "output_type": "stream",
     "text": [
      "tensor([1., 1., 1., 1., 1., 1., 1., 1., 1., 1.])\n",
      "tensor([1.3333, 0.0000, 1.3333, 0.0000, 1.3333, 1.3333, 1.3333, 1.3333, 1.3333,\n",
      "        0.0000])\n",
      "tensor(0.9333)\n"
     ]
    }
   ],
   "source": [
    "# defining probability for a node to dropout\n",
    "drop_prob = 0.25\n",
    "\n",
    "dropout = nn.Dropout(p=drop_prob) # dropout layer\n",
    "x = torch.ones(10)\n",
    "\n",
    "# dropout results after passing through dropout layer\n",
    "y = dropout(x)\n",
    "\n",
    "# printing results\n",
    "print(x)\n",
    "print(y)\n",
    "print(torch.mean(y))"
   ]
  },
  {
   "cell_type": "markdown",
   "metadata": {},
   "source": [
    "### Dropout when evaluating the Model"
   ]
  },
  {
   "cell_type": "code",
   "execution_count": 13,
   "metadata": {},
   "outputs": [
    {
     "name": "stdout",
     "output_type": "stream",
     "text": [
      "tensor([1., 1., 1., 1., 1., 1., 1., 1., 1., 1.])\n",
      "tensor(1.)\n"
     ]
    }
   ],
   "source": [
    "dropout.eval() # model now in evaluation mode, dropout is disabled\n",
    "y = dropout(x)\n",
    "print(y)\n",
    "print(torch.mean(y))"
   ]
  },
  {
   "cell_type": "markdown",
   "metadata": {},
   "source": [
    "### Important note about `F.droput()` .\n",
    "- It does not de-active automatically when in eval() mode.\n",
    "- This can be avoided by including in the params `training=False`."
   ]
  },
  {
   "cell_type": "code",
   "execution_count": 17,
   "metadata": {},
   "outputs": [
    {
     "name": "stdout",
     "output_type": "stream",
     "text": [
      "Dropout still being applied in eval()\n",
      "tensor([2., 2., 0., 2., 0., 0., 0., 2., 0., 0.])\n",
      "tensor(0.8000)\n",
      "\n",
      "Dropout not being applied in eval()\n",
      "tensor([1., 1., 1., 1., 1., 1., 1., 1., 1., 1.])\n",
      "tensor(1.)\n"
     ]
    }
   ],
   "source": [
    "dropout.eval() # model now in evaluation mode, dropout should be disabled\n",
    "\n",
    "y = F.dropout(x) # calling the dropout function directly, so it is not disabled\n",
    "print(\"Dropout still being applied in eval()\")\n",
    "print(y) # expected to be all ones\n",
    "print(torch.mean(y)) # expected to be 1\n",
    "\n",
    "# this can be fixed with included the training bool in the dropout function\n",
    "y = F.dropout(x, training=False)\n",
    "\n",
    "print(\"\\nDropout not being applied in eval()\")\n",
    "print(y)\n",
    "print(torch.mean(y))"
   ]
  },
  {
   "cell_type": "markdown",
   "metadata": {},
   "source": [
    "### Important note about switching model between training and eval modes.\n",
    "- If the model is switched into `.eval()` mode, it will stay this way until it is manually set back into training. \n",
    "    - As long as this is enabled dropout will not be applied.\n",
    "- A call to `.train()` must be included to set the model back into training mode."
   ]
  },
  {
   "cell_type": "code",
   "execution_count": 18,
   "metadata": {},
   "outputs": [
    {
     "name": "stdout",
     "output_type": "stream",
     "text": [
      "Model in training mode: tensor([1.3333, 1.3333, 1.3333, 1.3333, 0.0000, 1.3333, 1.3333, 1.3333, 1.3333,\n",
      "        1.3333])\n",
      "\n",
      "Model in evaluation mode: tensor([1., 1., 1., 1., 1., 1., 1., 1., 1., 1.])\n",
      "\n",
      "Model in evaluation mode: tensor([1., 1., 1., 1., 1., 1., 1., 1., 1., 1.])\n",
      "\n"
     ]
    }
   ],
   "source": [
    "# example of toggling model modes between training and evaluation\n",
    "\n",
    "dropout.train() # model now in training mode\n",
    "y = dropout(x)\n",
    "print(f\"Model in training mode: {y}\\n\")\n",
    "\n",
    "dropout.eval() # model now in evaluation mode\n",
    "y = dropout(x)\n",
    "print(f\"Model in evaluation mode: {y}\\n\")\n",
    "\n",
    "# example of accidentally trying to train while still in eval mode\n",
    "y = dropout(x)\n",
    "print(f\"Model in evaluation mode: {y}\\n\") # expected to be the same as the previous result"
   ]
  }
 ],
 "metadata": {
  "kernelspec": {
   "display_name": "Python 3",
   "language": "python",
   "name": "python3"
  },
  "language_info": {
   "codemirror_mode": {
    "name": "ipython",
    "version": 3
   },
   "file_extension": ".py",
   "mimetype": "text/x-python",
   "name": "python",
   "nbconvert_exporter": "python",
   "pygments_lexer": "ipython3",
   "version": "3.11.9"
  }
 },
 "nbformat": 4,
 "nbformat_minor": 2
}
