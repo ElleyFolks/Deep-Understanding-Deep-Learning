{
 "cells": [
  {
   "cell_type": "markdown",
   "metadata": {},
   "source": [
    "# Batches!\n",
    "- #### This project will examine batching, different techniques, and how batching is a form of data regularization."
   ]
  },
  {
   "cell_type": "code",
   "execution_count": 338,
   "metadata": {},
   "outputs": [],
   "source": [
    "import torch\n",
    "import torch.nn as nn\n",
    "import numpy as np\n",
    "import matplotlib.pyplot as plt\n",
    "from sklearn.model_selection import train_test_split\n",
    "from torch.utils.data import DataLoader, TensorDataset\n",
    "\n",
    "# importing iris dataset\n",
    "import seaborn as sns\n",
    "iris_dataset = sns.load_dataset('iris')"
   ]
  },
  {
   "cell_type": "markdown",
   "metadata": {},
   "source": [
    "### Transforming and Loading Data"
   ]
  },
  {
   "cell_type": "code",
   "execution_count": 339,
   "metadata": {},
   "outputs": [],
   "source": [
    "# converting from pandas dataframe to pytorch tensor\n",
    "torched_iris_dataset= torch.tensor(iris_dataset[iris_dataset.columns[0:4]].values).float() # only use first 4 columns, because last column is outcome variable or datatype.\n",
    "\n",
    "# numeric transformation - transforming species name to a number (0-2)\n",
    "iris_labels = torch.zeros(len(torched_iris_dataset), dtype=torch.long) # species 'setosa' will remain 0.\n",
    "iris_labels[iris_dataset.species=='versicolor'] = 1\n",
    "iris_labels[iris_dataset.species=='virginica'] = 2"
   ]
  },
  {
   "cell_type": "markdown",
   "metadata": {},
   "source": [
    "### What datasets do you partition into smaller batches?\n",
    "- Typically the training dataset, which is what the model is learning from.\n",
    "    - This is a form of regularization, because with each epoch the model is trained on different batches of new training data.\n",
    "    - Overfitting is reduced, because the losses are averaged over multiple samples.\n",
    "- If the test dataset is huge, then it may be practical to test the model in batches.\n",
    "    - Otherwise, the size of the batch for the test set will be all of the samples in the test set.\n",
    "\n",
    "### What do you do if the last batch isn't the same size as the rest of the batches?\n",
    "- The `drop_last = True` parameter will drop the last batch from the data loader object.\n",
    "- This will result in lost data! \n",
    "    - This doesn't matter if you have a large dataset, but for smaller datasets this can be detrimental.\n",
    "- It may be worth exploring different batch sizes to mitigate the data lost in the last batch."
   ]
  },
  {
   "cell_type": "code",
   "execution_count": 340,
   "metadata": {},
   "outputs": [
    {
     "name": "stdout",
     "output_type": "stream",
     "text": [
      "Set with last batch: \n",
      "torch.Size([4, 4]) torch.Size([4])\n",
      "torch.Size([4, 4]) torch.Size([4])\n",
      "torch.Size([4, 4]) torch.Size([4])\n",
      "torch.Size([4, 4]) torch.Size([4])\n",
      "torch.Size([4, 4]) torch.Size([4])\n",
      "torch.Size([4, 4]) torch.Size([4])\n",
      "torch.Size([4, 4]) torch.Size([4])\n",
      "torch.Size([4, 4]) torch.Size([4])\n",
      "torch.Size([4, 4]) torch.Size([4])\n",
      "torch.Size([4, 4]) torch.Size([4])\n",
      "torch.Size([4, 4]) torch.Size([4])\n",
      "torch.Size([4, 4]) torch.Size([4])\n",
      "torch.Size([4, 4]) torch.Size([4])\n",
      "torch.Size([4, 4]) torch.Size([4])\n",
      "torch.Size([4, 4]) torch.Size([4])\n",
      "torch.Size([4, 4]) torch.Size([4])\n",
      "torch.Size([4, 4]) torch.Size([4])\n",
      "torch.Size([4, 4]) torch.Size([4])\n",
      "torch.Size([4, 4]) torch.Size([4])\n",
      "torch.Size([4, 4]) torch.Size([4])\n",
      "torch.Size([4, 4]) torch.Size([4])\n",
      "torch.Size([4, 4]) torch.Size([4])\n",
      "torch.Size([4, 4]) torch.Size([4])\n",
      "torch.Size([4, 4]) torch.Size([4])\n",
      "torch.Size([4, 4]) torch.Size([4])\n",
      "torch.Size([4, 4]) torch.Size([4])\n",
      "torch.Size([4, 4]) torch.Size([4])\n",
      "torch.Size([4, 4]) torch.Size([4])\n",
      "torch.Size([4, 4]) torch.Size([4])\n",
      "torch.Size([4, 4]) torch.Size([4])\n",
      "\n",
      "\n",
      "Set without last batch dropped (if not == batch size): \n",
      "torch.Size([4, 4]) torch.Size([4])\n",
      "torch.Size([4, 4]) torch.Size([4])\n",
      "torch.Size([4, 4]) torch.Size([4])\n",
      "torch.Size([4, 4]) torch.Size([4])\n",
      "torch.Size([4, 4]) torch.Size([4])\n",
      "torch.Size([4, 4]) torch.Size([4])\n",
      "torch.Size([4, 4]) torch.Size([4])\n",
      "torch.Size([4, 4]) torch.Size([4])\n",
      "torch.Size([4, 4]) torch.Size([4])\n",
      "torch.Size([4, 4]) torch.Size([4])\n",
      "torch.Size([4, 4]) torch.Size([4])\n",
      "torch.Size([4, 4]) torch.Size([4])\n",
      "torch.Size([4, 4]) torch.Size([4])\n",
      "torch.Size([4, 4]) torch.Size([4])\n",
      "torch.Size([4, 4]) torch.Size([4])\n",
      "torch.Size([4, 4]) torch.Size([4])\n",
      "torch.Size([4, 4]) torch.Size([4])\n",
      "torch.Size([4, 4]) torch.Size([4])\n",
      "torch.Size([4, 4]) torch.Size([4])\n",
      "torch.Size([4, 4]) torch.Size([4])\n",
      "torch.Size([4, 4]) torch.Size([4])\n",
      "torch.Size([4, 4]) torch.Size([4])\n",
      "torch.Size([4, 4]) torch.Size([4])\n",
      "torch.Size([4, 4]) torch.Size([4])\n",
      "torch.Size([4, 4]) torch.Size([4])\n",
      "torch.Size([4, 4]) torch.Size([4])\n",
      "torch.Size([4, 4]) torch.Size([4])\n",
      "torch.Size([4, 4]) torch.Size([4])\n",
      "torch.Size([4, 4]) torch.Size([4])\n",
      "torch.Size([4, 4]) torch.Size([4])\n",
      "\n",
      "\n"
     ]
    }
   ],
   "source": [
    "# splitting iris dataset into training and testing\n",
    "train_data, test_data, train_labels, test_labels = train_test_split(torched_iris_dataset, iris_labels, train_size= 0.8)\n",
    "\n",
    "# converting to torch tensors, grouping data and labels\n",
    "train_data = TensorDataset(train_data, train_labels)\n",
    "test_data = TensorDataset(test_data, test_labels)\n",
    "\n",
    "# creating data loaders\n",
    "batch_size = 4\n",
    "train_loader = DataLoader(train_data, shuffle=True, batch_size=batch_size)\n",
    "\n",
    "print(\"Set with last batch: \")\n",
    "for X,y in train_loader:\n",
    "    print(X.shape, y.shape) # torch.Size([16, 4]) torch.Size([16]), last batch is [8,4] [8]\n",
    "print(\"\\n\")\n",
    "\n",
    "\n",
    "train_loader = DataLoader(train_data, shuffle=True, batch_size=batch_size, drop_last=True) # drops last batch if smaller than batch_size\n",
    "print(\"Set without last batch dropped (if not == batch size): \")\n",
    "for X,y in train_loader:\n",
    "    print(X.shape, y.shape)\n",
    "print(\"\\n\")\n",
    "\n",
    "test_loader = DataLoader(test_data, shuffle=True, batch_size= test_data.tensors[0].shape[0]) # only batched if test dataset is large."
   ]
  },
  {
   "cell_type": "markdown",
   "metadata": {},
   "source": [
    "### Creating and Training Model (not focus of this practice)"
   ]
  },
  {
   "cell_type": "code",
   "execution_count": 341,
   "metadata": {},
   "outputs": [],
   "source": [
    "def create_ANN_model(learning_rate):\n",
    "    \n",
    "    # model architecture\n",
    "    ANN_model = nn.Sequential(\n",
    "        nn.Linear(4, 64),\n",
    "        nn.ReLU(),\n",
    "        nn.Linear(64, 64),\n",
    "        nn.ReLU(),\n",
    "        nn.Linear(64, 3)\n",
    "    )\n",
    "\n",
    "    # loss function\n",
    "    loss_function = nn.CrossEntropyLoss()\n",
    "\n",
    "    # optimizer, this is where L2 penalty is applied\n",
    "    optimizer = torch.optim.SGD(ANN_model.parameters(), lr=learning_rate)\n",
    "\n",
    "    return ANN_model, loss_function, optimizer"
   ]
  },
  {
   "cell_type": "code",
   "execution_count": 342,
   "metadata": {},
   "outputs": [],
   "source": [
    "def batch_train_model(number_of_epochs, ANN_iris, loss_function, optimizer):\n",
    "    \n",
    "    training_accuracy_ary = []\n",
    "    testing_accuracy_ary = []\n",
    "    losses_ary = []\n",
    "\n",
    "    # loop over epochs\n",
    "    for epoch_IDX in range(number_of_epochs):\n",
    "\n",
    "        batch_accuracy = []\n",
    "        batch_loss = []\n",
    "\n",
    "        for batch, labels in train_loader:\n",
    "        # forward pass and calculate loss\n",
    "            y_hat = ANN_iris(batch)\n",
    "            loss = loss_function(y_hat, labels)\n",
    "\n",
    "            # backpropagation (learning)\n",
    "            optimizer.zero_grad()\n",
    "            loss.backward()\n",
    "            optimizer.step()\n",
    "\n",
    "            # calculate accuracy for current batch\n",
    "            batch_accuracy.append(100*torch.mean((torch.argmax(y_hat, axis=1) == labels).float()).item())\n",
    "\n",
    "            # batch losses\n",
    "            batch_loss.append(loss.item())\n",
    "\n",
    "        # calculate overall training accuracy and loss\n",
    "        training_accuracy_ary.append(np.mean(batch_accuracy))\n",
    "        losses_ary.append(np.mean(batch_loss))\n",
    "\n",
    "        # Cross Validation of Model\n",
    "        X_data, y_labels = next(iter(test_loader)) # there is only one batch, so there's no need for a for loop\n",
    "        predicted_testing_labels = torch.argmax(ANN_iris(X_data),axis=1)\n",
    "\n",
    "        # calculate testing accuracy\n",
    "        testing_accuracy_ary.append(100*torch.mean((predicted_testing_labels == y_labels).float()).item())\n",
    "\n",
    "    return training_accuracy_ary, testing_accuracy_ary, losses_ary"
   ]
  },
  {
   "cell_type": "code",
   "execution_count": 343,
   "metadata": {},
   "outputs": [],
   "source": [
    "# model params\n",
    "learning_rate = 0.0005\n",
    "num_epochs = 1500\n",
    "\n",
    "# creating and training model\n",
    "ANN_iris, loss_function, optimizer = create_ANN_model(learning_rate)\n",
    "training_acc, test_acc, losses = batch_train_model(num_epochs, ANN_iris, loss_function, optimizer)"
   ]
  },
  {
   "cell_type": "code",
   "execution_count": 344,
   "metadata": {},
   "outputs": [
    {
     "data": {
      "text/plain": [
       "<matplotlib.legend.Legend at 0x14cbfd630d0>"
      ]
     },
     "execution_count": 344,
     "metadata": {},
     "output_type": "execute_result"
    },
    {
     "data": {
      "image/png": "[encoded data removed]",
      "text/plain": [
       "<Figure size 1500x500 with 2 Axes>"
      ]
     },
     "metadata": {},
     "output_type": "display_data"
    }
   ],
   "source": [
    "# plotting results\n",
    "fig, ax = plt.subplots(1,2, figsize = (15,5))\n",
    "\n",
    "# losses plot\n",
    "ax[0].plot(losses, 'k^-')\n",
    "ax[0].set_xlabel('Epochs')\n",
    "ax[0].set_ylabel('Loss')\n",
    "ax[0].set_title(f'Losses with Batch Size = {batch_size}')\n",
    "\n",
    "# accuracy plot\n",
    "ax[1].plot(training_acc, 'ro-')\n",
    "ax[1].plot(test_acc, 'bs-')\n",
    "ax[1].set_xlabel('Epochs')\n",
    "ax[1].set_ylabel('Accuracy (%)')\n",
    "ax[1].set_title(f'Accuracy with Batch Size = {batch_size}')\n",
    "ax[1].legend(['Training', 'Testing'])"
   ]
  },
  {
   "cell_type": "markdown",
   "metadata": {},
   "source": [
    "#### Examining the Results:\n",
    "- Note: This is a relatively homogenous dataset, where the data points are relatively similar to one another.\n",
    "- For different batches sizes, there are different 'symptoms' that indicate if the model is doing well or poorly.\n",
    "- The model performed the best with a learning rate at `0.0005`, batch sizes of `4`, and `1500` epochs.\n",
    "- #### Smaller batch sizes seem to be associated with quicker learning for this model and dataset.\n",
    "    - The dataset is small\n",
    "    - The model is simple\n",
    "    - Homogenous dataset - The data points are pretty similar.\n",
    "\n",
    "\n",
    "- #### If the batches are too small, it looks like Stochastic Gradient Descent. \n",
    "    - Generally the model will train well, but not perform as well with the testing.\n",
    "    - The learning can be more jagged / inconsistent.\n",
    "    - Longer **computation time**, takes much longer to train.\n",
    "    - **Overfitting** can reduce generalizability and testing performance.\n",
    "    - You don't get the benefits of the data being regularized.\n",
    "\n",
    "<br><br>\n",
    "- ##### Note: Batch sizes around 30 for this model and dataset\n",
    "    - Testing performance is often better than training performance. I don't know what is causing this for sure.\n",
    "    - The learning speed is not consistent between runs. The model either learns very quickly, or runs into several asymptotes and 'gets stuck' with accuracy.\n",
    "    - This makes me wonder if there is an optimal learning rate to use with certain batch sizes. That would be worth looking at later.\n",
    "    - I changed the learning rate from `0.0005` to `0.005` and the model immediately trained better at the batch size.\n",
    "    - Even after this change, the problem still appeared where the testing accuracy was higher than the training accuracy.\n",
    "\n",
    "<br><br>\n",
    "- #### This model struggles or even fails to learn when larger batch sizes (around 54) are used with the smaller learning rate.\n",
    "    - This was with a learning rate of `0.0005`. Maybe this was too small?\n",
    "    - Increased learning rate to `0.005` and it performed somewhat better and more consistently. Many problems were still present.\n",
    "    - Increased learning rate to `0.05` and the model was not learning at all.\n",
    "    - Not enough data to support the large batch sizes.\n",
    "    - There is likely lots of data lost in the last batch if it is dropped.\n",
    "    - The model gets 'stuck' at certain accuracies for many epochs.\n",
    "\n",
    "\n",
    "- #### Key behaviors to look for when batch sizes are too large:  \n",
    "    - The accuracy graph is very jagged.\n",
    "    - There is a tendency for the testing to perform better than training accuracy.\n",
    "    - The accuracy drops back down during training.\n",
    "    - The accuracy hits asymptotes at lower accuracies and gets 'stuck' for long periods of training.\n",
    "    - The accuracy is generally lower even by the end of training.\n",
    "    - Increasing the number of epochs does not significantly improve the accuracy.\n",
    "    - Results of training are very inconsistent between runs."
   ]
  }
 ],
 "metadata": {
  "kernelspec": {
   "display_name": "Python 3",
   "language": "python",
   "name": "python3"
  },
  "language_info": {
   "codemirror_mode": {
    "name": "ipython",
    "version": 3
   },
   "file_extension": ".py",
   "mimetype": "text/x-python",
   "name": "python",
   "nbconvert_exporter": "python",
   "pygments_lexer": "ipython3",
   "version": "3.11.9"
  }
 },
 "nbformat": 4,
 "nbformat_minor": 2
}
