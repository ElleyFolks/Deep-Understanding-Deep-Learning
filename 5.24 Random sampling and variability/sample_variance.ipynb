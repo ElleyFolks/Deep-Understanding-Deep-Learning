{
 "cells": [
  {
   "cell_type": "code",
   "execution_count": 24,
   "metadata": {},
   "outputs": [],
   "source": [
    "import numpy as np\n",
    "import matplotlib.pyplot as plt"
   ]
  },
  {
   "cell_type": "markdown",
   "metadata": {},
   "source": [
    "***\n",
    "# Sample Variance \n",
    "- #### different, randomly selected samples can lead to results that do not represent the population"
   ]
  },
  {
   "cell_type": "code",
   "execution_count": 16,
   "metadata": {},
   "outputs": [],
   "source": [
    "# generates a random list of integers\n",
    "x = np.random.randint(low=-10,high=24,size=16)"
   ]
  },
  {
   "cell_type": "code",
   "execution_count": 22,
   "metadata": {},
   "outputs": [
    {
     "name": "stdout",
     "output_type": "stream",
     "text": [
      "population mean: 3.375\n",
      "sample mean: 1.6666666666666667\n"
     ]
    }
   ],
   "source": [
    "# example 1 - comparing sample mean with population mean\n",
    "\n",
    "population = x\n",
    "n = len(population)\n",
    "\n",
    "# population mean of entire data set\n",
    "pop_avg = np.mean(population)\n",
    "print(\"population mean:\", pop_avg)\n",
    "\n",
    "# sample mean, selecting random values from x\n",
    "sample = np.random.choice(population,size=6,replace=True)\n",
    "sample_avg = np.mean(sample)\n",
    "print(\"sample mean:\",sample_avg)\n",
    "\n"
   ]
  },
  {
   "cell_type": "markdown",
   "metadata": {},
   "source": [
    "## Analyzing exercise 1\n",
    "- If running the code in example 1 multiple times, it can be seen how the *sample mean* can be wildly different from the actual *population mean*.\n",
    "    - this is because **small** random samples can mixed give results that are **not reliable**\n",
    "    - in one sample, there might be large numbers and another small numbers all from the same population<br><br>\n",
    "    - ex) When the population mean was 3.375, I got some sample means to be the following: {9.67, 5.33, 4.0, 1.67}.\n",
    "    <br><br>\n",
    "\n",
    "#### What would help prevent this? \n",
    "- ##### Larger random samples and more samples.\n",
    "<br><br>\n",
    "***"
   ]
  },
  {
   "cell_type": "code",
   "execution_count": 29,
   "metadata": {},
   "outputs": [
    {
     "data": {
      "text/plain": [
       "<function matplotlib.pyplot.show(close=None, block=None)>"
      ]
     },
     "execution_count": 29,
     "metadata": {},
     "output_type": "execute_result"
    },
    {
     "data": {
      "image/png": "[encoded data removed]",
      "text/plain": [
       "<Figure size 640x480 with 1 Axes>"
      ]
     },
     "metadata": {},
     "output_type": "display_data"
    }
   ],
   "source": [
    "# exercise 2 - taking more samples\n",
    "\n",
    "# experiment of taking many small samples, using population from example 1\n",
    "\n",
    "num_experiments = 10000 # number of experiments\n",
    "all_samples = np.zeros(num_experiments) # initializes list with 0's\n",
    "\n",
    "for i in range(num_experiments):\n",
    "    # 1. taking sample\n",
    "    rand_sample = np.random.choice(population, size = 20, replace = True)\n",
    "\n",
    "    # 2. find mean of sample\n",
    "    all_samples[i] = np.mean(rand_sample)\n",
    "\n",
    "# graphing results\n",
    "\n",
    "plt.hist(all_samples, bins=40,density=True)\n",
    "plt.plot([pop_avg,pop_avg],[0,0.3],'m--')\n",
    "plt.ylabel('Count')\n",
    "plt.xlabel('Sample Mean')\n",
    "plt.show"
   ]
  },
  {
   "cell_type": "markdown",
   "metadata": {},
   "source": [
    "## Analyzing exercise 2\n",
    "\n",
    "- if the parameter **size** in *rand_sample*, is **increased**, the means of the samples begin to approach the value of the true population mean<br><br>\n",
    "- when looking at the graph, this will show the bell curve shape growing narrower and taller, and more squished towards the middle<br><br>\n",
    "- if the sample **sizes** are **smaller**, then the graph will appear broader and more spread out. This is generally undesirable.\n",
    "\n",
    "***\n",
    "***"
   ]
  }
 ],
 "metadata": {
  "kernelspec": {
   "display_name": "Python 3",
   "language": "python",
   "name": "python3"
  },
  "language_info": {
   "codemirror_mode": {
    "name": "ipython",
    "version": 3
   },
   "file_extension": ".py",
   "mimetype": "text/x-python",
   "name": "python",
   "nbconvert_exporter": "python",
   "pygments_lexer": "ipython3",
   "version": "3.11.5"
  }
 },
 "nbformat": 4,
 "nbformat_minor": 2
}
